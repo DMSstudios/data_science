{
 "cells": [
  {
   "cell_type": "code",
   "execution_count": 1,
   "metadata": {},
   "outputs": [],
   "source": [
    "import pandas as pd"
   ]
  },
  {
   "cell_type": "code",
   "execution_count": 18,
   "metadata": {},
   "outputs": [],
   "source": [
    "df_movies = pd.read_csv(\"data/imdb_1000_clean.csv\", index_col=\"Rank\")"
   ]
  },
  {
   "cell_type": "code",
   "execution_count": 19,
   "metadata": {},
   "outputs": [],
   "source": [
    "df_movies_one = df_movies.copy()"
   ]
  },
  {
   "cell_type": "code",
   "execution_count": 20,
   "metadata": {},
   "outputs": [
    {
     "name": "stdout",
     "output_type": "stream",
     "text": [
      "<class 'pandas.core.frame.DataFrame'>\n",
      "Int64Index: 936 entries, 1 to 1000\n",
      "Data columns (total 11 columns):\n",
      " #   Column            Non-Null Count  Dtype  \n",
      "---  ------            --------------  -----  \n",
      " 0   title             936 non-null    object \n",
      " 1   genre             936 non-null    object \n",
      " 2   description       936 non-null    object \n",
      " 3   director          936 non-null    object \n",
      " 4   actors            936 non-null    object \n",
      " 5   year              936 non-null    int64  \n",
      " 6   runtime_minutes   936 non-null    int64  \n",
      " 7   rating            936 non-null    float64\n",
      " 8   votes             936 non-null    int64  \n",
      " 9   revenue_millions  936 non-null    float64\n",
      " 10  metascore         936 non-null    float64\n",
      "dtypes: float64(3), int64(3), object(5)\n",
      "memory usage: 87.8+ KB\n"
     ]
    }
   ],
   "source": [
    "df_movies_one.info()"
   ]
  },
  {
   "cell_type": "code",
   "execution_count": 21,
   "metadata": {},
   "outputs": [
    {
     "data": {
      "text/html": [
       "<div>\n",
       "<style scoped>\n",
       "    .dataframe tbody tr th:only-of-type {\n",
       "        vertical-align: middle;\n",
       "    }\n",
       "\n",
       "    .dataframe tbody tr th {\n",
       "        vertical-align: top;\n",
       "    }\n",
       "\n",
       "    .dataframe thead th {\n",
       "        text-align: right;\n",
       "    }\n",
       "</style>\n",
       "<table border=\"1\" class=\"dataframe\">\n",
       "  <thead>\n",
       "    <tr style=\"text-align: right;\">\n",
       "      <th></th>\n",
       "      <th>year</th>\n",
       "      <th>runtime_minutes</th>\n",
       "      <th>rating</th>\n",
       "      <th>votes</th>\n",
       "      <th>revenue_millions</th>\n",
       "      <th>metascore</th>\n",
       "    </tr>\n",
       "  </thead>\n",
       "  <tbody>\n",
       "    <tr>\n",
       "      <th>count</th>\n",
       "      <td>936.000000</td>\n",
       "      <td>936.000000</td>\n",
       "      <td>936.000000</td>\n",
       "      <td>9.360000e+02</td>\n",
       "      <td>936.00000</td>\n",
       "      <td>936.000000</td>\n",
       "    </tr>\n",
       "    <tr>\n",
       "      <th>mean</th>\n",
       "      <td>2012.771368</td>\n",
       "      <td>113.272436</td>\n",
       "      <td>6.729167</td>\n",
       "      <td>1.752702e+05</td>\n",
       "      <td>84.39618</td>\n",
       "      <td>58.985043</td>\n",
       "    </tr>\n",
       "    <tr>\n",
       "      <th>std</th>\n",
       "      <td>3.178987</td>\n",
       "      <td>18.550798</td>\n",
       "      <td>0.935225</td>\n",
       "      <td>1.905824e+05</td>\n",
       "      <td>98.89234</td>\n",
       "      <td>17.194757</td>\n",
       "    </tr>\n",
       "    <tr>\n",
       "      <th>min</th>\n",
       "      <td>2006.000000</td>\n",
       "      <td>66.000000</td>\n",
       "      <td>1.900000</td>\n",
       "      <td>6.100000e+01</td>\n",
       "      <td>0.00000</td>\n",
       "      <td>11.000000</td>\n",
       "    </tr>\n",
       "    <tr>\n",
       "      <th>25%</th>\n",
       "      <td>2010.000000</td>\n",
       "      <td>100.000000</td>\n",
       "      <td>6.200000</td>\n",
       "      <td>4.159300e+04</td>\n",
       "      <td>17.44250</td>\n",
       "      <td>47.000000</td>\n",
       "    </tr>\n",
       "    <tr>\n",
       "      <th>50%</th>\n",
       "      <td>2014.000000</td>\n",
       "      <td>111.000000</td>\n",
       "      <td>6.800000</td>\n",
       "      <td>1.149185e+05</td>\n",
       "      <td>58.70000</td>\n",
       "      <td>59.500000</td>\n",
       "    </tr>\n",
       "    <tr>\n",
       "      <th>75%</th>\n",
       "      <td>2016.000000</td>\n",
       "      <td>123.000000</td>\n",
       "      <td>7.400000</td>\n",
       "      <td>2.495380e+05</td>\n",
       "      <td>102.42250</td>\n",
       "      <td>72.000000</td>\n",
       "    </tr>\n",
       "    <tr>\n",
       "      <th>max</th>\n",
       "      <td>2016.000000</td>\n",
       "      <td>187.000000</td>\n",
       "      <td>9.000000</td>\n",
       "      <td>1.791916e+06</td>\n",
       "      <td>936.63000</td>\n",
       "      <td>100.000000</td>\n",
       "    </tr>\n",
       "  </tbody>\n",
       "</table>\n",
       "</div>"
      ],
      "text/plain": [
       "              year  runtime_minutes      rating         votes  \\\n",
       "count   936.000000       936.000000  936.000000  9.360000e+02   \n",
       "mean   2012.771368       113.272436    6.729167  1.752702e+05   \n",
       "std       3.178987        18.550798    0.935225  1.905824e+05   \n",
       "min    2006.000000        66.000000    1.900000  6.100000e+01   \n",
       "25%    2010.000000       100.000000    6.200000  4.159300e+04   \n",
       "50%    2014.000000       111.000000    6.800000  1.149185e+05   \n",
       "75%    2016.000000       123.000000    7.400000  2.495380e+05   \n",
       "max    2016.000000       187.000000    9.000000  1.791916e+06   \n",
       "\n",
       "       revenue_millions   metascore  \n",
       "count         936.00000  936.000000  \n",
       "mean           84.39618   58.985043  \n",
       "std            98.89234   17.194757  \n",
       "min             0.00000   11.000000  \n",
       "25%            17.44250   47.000000  \n",
       "50%            58.70000   59.500000  \n",
       "75%           102.42250   72.000000  \n",
       "max           936.63000  100.000000  "
      ]
     },
     "execution_count": 21,
     "metadata": {},
     "output_type": "execute_result"
    }
   ],
   "source": [
    "df_movies_one.describe()"
   ]
  },
  {
   "cell_type": "markdown",
   "metadata": {},
   "source": [
    "#### Mean, Mediun, Mode\n",
    "#### Standard Deviation and Variance\n",
    "#### Skewness\n",
    "#### What's Normal distribution?\n",
    "     *Kurtosis\n",
    "\n",
    "### Different Charts\n",
    "* Line graph - Data collected over time, Time Series, Trend of data.\n",
    "* Pie chart - Categorical data .g less than 10 categories. Display count/sum %.\n",
    "* Bar graph - Many Categories/Time Series/...\n",
    "* Scatter plot - Distribution of data points/ Trend.\n",
    "* Boxplot - Outliers/Max/min/... Distibution, Trend.\n"
   ]
  },
  {
   "cell_type": "code",
   "execution_count": 24,
   "metadata": {},
   "outputs": [],
   "source": [
    "gn = df_movies_one[\"genre\"]"
   ]
  },
  {
   "cell_type": "code",
   "execution_count": 23,
   "metadata": {},
   "outputs": [
    {
     "data": {
      "text/plain": [
       "Action,Adventure,Sci-Fi    50\n",
       "Drama                      43\n",
       "Comedy,Drama,Romance       32\n",
       "Comedy                     30\n",
       "Drama,Romance              28\n",
       "Name: genre, dtype: int64"
      ]
     },
     "execution_count": 23,
     "metadata": {},
     "output_type": "execute_result"
    }
   ],
   "source": [
    "gn.value_counts().head()"
   ]
  },
  {
   "cell_type": "code",
   "execution_count": null,
   "metadata": {},
   "outputs": [],
   "source": []
  }
 ],
 "metadata": {
  "kernelspec": {
   "display_name": "Python 3",
   "language": "python",
   "name": "python3"
  },
  "language_info": {
   "codemirror_mode": {
    "name": "ipython",
    "version": 3
   },
   "file_extension": ".py",
   "mimetype": "text/x-python",
   "name": "python",
   "nbconvert_exporter": "python",
   "pygments_lexer": "ipython3",
   "version": "3.7.7"
  }
 },
 "nbformat": 4,
 "nbformat_minor": 4
}
